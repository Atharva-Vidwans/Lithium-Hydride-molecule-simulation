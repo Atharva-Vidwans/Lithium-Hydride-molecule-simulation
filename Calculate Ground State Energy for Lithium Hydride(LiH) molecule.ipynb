{
 "cells": [
  {
   "cell_type": "markdown",
   "metadata": {},
   "source": [
    "# VQE for LiH molecule Simulation \n"
   ]
  },
  {
   "cell_type": "markdown",
   "metadata": {},
   "source": [
    "### Importing required files\n",
    "\n",
    "In this notebook, I will simulate (Lithium Hydride)LiH molecule to find its ground state using the STO-3G basis with the PySCF driver and ParityMapper mapping.\n",
    "Necessary files rquired for calculating the ground state energy of the molecule are imported in the below cell"
   ]
  },
  {
   "cell_type": "code",
   "execution_count": 1,
   "metadata": {},
   "outputs": [],
   "source": [
    "# Importing necessary files required for the algorithm\n",
    "\n",
    "from qiskit_nature.drivers import PySCFDriver\n",
    "from qiskit import Aer\n",
    "from qiskit_nature.transformers import FreezeCoreTransformer\n",
    "from qiskit_nature.problems.second_quantization.electronic import ElectronicStructureProblem\n",
    "from qiskit_nature.mappers.second_quantization import ParityMapper, BravyiKitaevMapper, JordanWignerMapper\n",
    "from qiskit_nature.converters.second_quantization.qubit_converter import QubitConverter\n",
    "from qiskit_nature.circuit.library import HartreeFock\n",
    "from qiskit.circuit.library import TwoLocal\n",
    "from qiskit_nature.circuit.library import UCCSD, PUCCD, SUCCD, UCC, UVCCSD\n",
    "from qiskit_nature.algorithms.ground_state_solvers.minimum_eigensolver_factories import NumPyMinimumEigensolverFactory\n",
    "from qiskit_nature.algorithms.ground_state_solvers import GroundStateEigensolver\n",
    "from qiskit.algorithms.optimizers import COBYLA, L_BFGS_B, SPSA, SLSQP\n",
    "from qiskit import Aer\n",
    "from qiskit.algorithms import VQE\n",
    "from IPython.display import display, clear_output\n",
    "from qiskit.aqua.operators.gradients import Gradient\n",
    "from qiskit.transpiler import PassManager\n",
    "from qiskit.transpiler.passes import Unroller\n",
    "import matplotlib.pyplot as plt\n",
    "import numpy as np "
   ]
  },
  {
   "cell_type": "markdown",
   "metadata": {},
   "source": [
    "### Setting the backend\n",
    "\n",
    "Setting backend to statevector simulator. This algorithm can also be executed on actual Quantum Computer instead of a simulator."
   ]
  },
  {
   "cell_type": "code",
   "execution_count": 2,
   "metadata": {},
   "outputs": [],
   "source": [
    "backend = Aer.get_backend('statevector_simulator')"
   ]
  },
  {
   "cell_type": "markdown",
   "metadata": {},
   "source": [
    "### Defining a Driver\n",
    "\n",
    "The interfaces to the classical chemistry codes that are available in Qiskit are called drivers.\n",
    "There are various drivers available in qiskit, for example `PSI4Driver`, `PyQuanteDriver`, `PySCFDriver`. We will be using PySCFDriver.  \n",
    "\n",
    "By running a driver (Hartree-Fock calculation for a given basis set and molecular geometry), in the cell below, we obtain all the necessary information about our molecule to apply then a quantum algorithm."
   ]
  },
  {
   "cell_type": "code",
   "execution_count": 3,
   "metadata": {},
   "outputs": [],
   "source": [
    "# Defining the geometry of the LiH molecule\n",
    "molecule = 'Li 0.0 0.0 0.0; H 0.0 0.0 1.5474'\n",
    "driver = PySCFDriver(atom=molecule)\n",
    "Qmolecule = driver.run()\n",
    "qmolecule = FreezeCoreTransformer().transform(Qmolecule)"
   ]
  },
  {
   "cell_type": "markdown",
   "metadata": {},
   "source": [
    "### Electronic Structure Problem\n",
    "\n",
    "Below cell creates an `ElectronicStructureProblem` that produces the list of fermionic operators before mapping them to qubits (Pauli strings).\n",
    "Along with this, corefreezing and orbital removal is used to reduce the number of qubits for constructing the ansatz. The orbitals which do not contribute to the optjmization or their contribution is less can be removed using `remove_orbitals` parameter in `ElectronicStructureProblem`.  "
   ]
  },
  {
   "cell_type": "code",
   "execution_count": 4,
   "metadata": {},
   "outputs": [],
   "source": [
    "problem = ElectronicStructureProblem(driver,q_molecule_transformers=\n",
    "                                     [FreezeCoreTransformer(freeze_core=True,remove_orbitals=[3,4])])\n",
    "\n",
    "# Generate the second-quantized operators\n",
    "second_q_ops = problem.second_q_ops()\n",
    "\n",
    "# Hamiltonian\n",
    "main_op = second_q_ops[0]"
   ]
  },
  {
   "cell_type": "markdown",
   "metadata": {},
   "source": [
    "### Setting a Mapper\n",
    "\n",
    "Below cell allows to define the mapping that is used in the simulation. Along with Parity Mapper, other mapping are allowed in qiskit_nature. They are Jordan Wigner and Bravy Kitaev mapper.\n",
    "But for this algorithm, Parity mapper is used as only ParityMapper supports `Two Qubit Reduction`. Which is also using in this algorithm for reducing the number of qubits in the Ansatz."
   ]
  },
  {
   "cell_type": "code",
   "execution_count": 5,
   "metadata": {},
   "outputs": [],
   "source": [
    "# Setup the mapper and qubit converter\n",
    "mapper_type = 'ParityMapper'\n",
    "\n",
    "if mapper_type == 'ParityMapper':\n",
    "    mapper = ParityMapper()\n",
    "elif mapper_type == 'JordanWignerMapper':\n",
    "    mapper = JordanWignerMapper()\n",
    "elif mapper_type == 'BravyiKitaevMapper':\n",
    "    mapper = BravyiKitaevMapper()\n",
    "\n",
    "converter = QubitConverter(mapper=mapper, two_qubit_reduction=True, z2symmetry_reduction=[-1,1])\n",
    "\n",
    "# The fermionic operators are mapped to qubit operators\n",
    "num_particles = (problem.molecule_data_transformed.num_alpha,\n",
    "             problem.molecule_data_transformed.num_beta)\n",
    "qubit_op = converter.convert(main_op, num_particles=num_particles)"
   ]
  },
  {
   "cell_type": "markdown",
   "metadata": {},
   "source": [
    "### Initial state\n",
    "A good initial state in chemistry is the HF state (i.e. $|\\Psi_{HF} \\rangle = |0101 \\rangle$). It is initialized as follows:"
   ]
  },
  {
   "cell_type": "code",
   "execution_count": 6,
   "metadata": {},
   "outputs": [
    {
     "name": "stdout",
     "output_type": "stream",
     "text": [
      "     ┌───┐\n",
      "q_0: ┤ X ├\n",
      "     ├───┤\n",
      "q_1: ┤ X ├\n",
      "     └───┘\n",
      "q_2: ─────\n",
      "          \n",
      "q_3: ─────\n",
      "          \n"
     ]
    }
   ],
   "source": [
    "num_particles = (problem.molecule_data_transformed.num_alpha,\n",
    "             problem.molecule_data_transformed.num_beta)\n",
    "num_spin_orbitals = 2 * problem.molecule_data_transformed.num_molecular_orbitals\n",
    "init_state = HartreeFock(num_spin_orbitals, num_particles, converter)\n",
    "print(init_state)"
   ]
  },
  {
   "cell_type": "markdown",
   "metadata": {},
   "source": [
    "### Ansatz\n",
    "Ansatz is one of the most important choices is the quantum circuit that is choosen to approximate the ground state of the molecule.\n",
    "There are numerous predefined ansatzs in qiskit. Furthermore, custom ansatz can also be used. There are various options of ansatz which can be implemented. Changing the `ansatz_type` variable name to the suitable circuit changes the ansatz which is to be used for the algorithm. "
   ]
  },
  {
   "cell_type": "code",
   "execution_count": 7,
   "metadata": {},
   "outputs": [
    {
     "name": "stdout",
     "output_type": "stream",
     "text": [
      "Ansatz used for the algorithm is displayed below : \n"
     ]
    },
    {
     "data": {
      "image/png": "[encoded data removed]",
      "text/plain": [
       "<Figure size 929.397x264.88 with 1 Axes>"
      ]
     },
     "execution_count": 7,
     "metadata": {},
     "output_type": "execute_result"
    }
   ],
   "source": [
    "# Choose the ansatz\n",
    "ansatz_type = \"TwoLocal\"\n",
    "\n",
    "# Parameters for q-UCC antatze\n",
    "num_particles = (problem.molecule_data_transformed.num_alpha,\n",
    "             problem.molecule_data_transformed.num_beta)\n",
    "num_spin_orbitals = 2 * problem.molecule_data_transformed.num_molecular_orbitals\n",
    "\n",
    "# Put arguments for twolocal\n",
    "if ansatz_type == \"TwoLocal\":\n",
    "    # Single qubit rotations that are placed on all qubits with independent parameters\n",
    "    rotation_blocks = ['sdg','rz','ry','cx','t','s','rx','rz']\n",
    "    # Entangling gates\n",
    "    entanglement_blocks = 'cz'\n",
    "    # How the qubits are entangled \n",
    "    entanglement = 'sca'\n",
    "    # Repetitions of rotation_blocks + entanglement_blocks with independent parameters\n",
    "    repetitions = 1\n",
    "    # Skip the final rotation_blocks layer\n",
    "    skip_final_rotation_layer = False\n",
    "    ansatz = TwoLocal(qubit_op.num_qubits, entanglement_blocks, rotation_blocks, reps=repetitions, \n",
    "                      entanglement=entanglement, skip_final_rotation_layer=skip_final_rotation_layer)\n",
    "    # Add the initial state\n",
    "    ansatz.compose(init_state, front=True, inplace=True)\n",
    "elif ansatz_type == \"UCCSD\":\n",
    "    ansatz = UCCSD(converter,num_particles,num_spin_orbitals,initial_state = init_state)\n",
    "elif ansatz_type == \"PUCCD\":\n",
    "    ansatz = PUCCD(converter,num_particles,num_spin_orbitals,initial_state = init_state)\n",
    "elif ansatz_type == \"SUCCD\":\n",
    "    ansatz = SUCCD(converter,num_particles,num_spin_orbitals,initial_state = init_state)\n",
    "\n",
    "print(\"Ansatz used for the algorithm is displayed below : \")\n",
    "ansatz.draw('mpl')"
   ]
  },
  {
   "cell_type": "markdown",
   "metadata": {},
   "source": [
    "### Optimizer\n",
    "\n",
    "The optimizer guides the evolution of the parameters of the ansatz so it is very important to investigate the energy convergence as it would define the number of measurements that have to be performed on the QPU.\n",
    "A clever choice might reduce drastically the number of needed energy evaluations. Various options are available for Optimizer. Here, I have used `COBYLA` with maximum iterations of 3000, for optimization purpose. "
   ]
  },
  {
   "cell_type": "code",
   "execution_count": 8,
   "metadata": {},
   "outputs": [],
   "source": [
    "optimizer_type = 'COBYLA'\n",
    " \n",
    "if optimizer_type == 'COBYLA':\n",
    "    optimizer = COBYLA(maxiter=3000)\n",
    "elif optimizer_type == 'L_BFGS_B':\n",
    "    optimizer = L_BFGS_B(maxfun=500)\n",
    "elif optimizer_type == 'SPSA':\n",
    "    optimizer = SPSA(maxiter=500)\n",
    "elif optimizer_type == 'SLSQP':\n",
    "    optimizer = SLSQP(maxiter=1500)"
   ]
  },
  {
   "cell_type": "markdown",
   "metadata": {},
   "source": [
    "### Exact eigensolver\n",
    "\n",
    "The exact electronic ground state energy can be found out with the exact diagonalization of the Hamiltonian matrix. This ground state energy is then later compared with the outcome of VQE algorithm. \n",
    "Of course, the dimensions of this matrix scale exponentially in the number of molecular orbitals so it can be done for a large molecule of any choice as it becomes really difficult for solving the problem due to increase in the size. \n",
    "For very large systems you would run out of memory trying to store their wavefunctions."
   ]
  },
  {
   "cell_type": "code",
   "execution_count": 9,
   "metadata": {},
   "outputs": [],
   "source": [
    "def exact_diagonalizer(problem, converter):\n",
    "    solver = NumPyMinimumEigensolverFactory()\n",
    "    calc = GroundStateEigensolver(converter, solver)\n",
    "    result = calc.solve(problem)\n",
    "    return result\n",
    "\n",
    "result_exact = exact_diagonalizer(problem, converter)\n",
    "exact_energy = np.real(result_exact.eigenenergies[0])"
   ]
  },
  {
   "cell_type": "markdown",
   "metadata": {},
   "source": [
    "### VQE and initial parameters for the ansatz\n",
    "\n",
    "In the below cell the VQE class is imported and the algorithm is executed. \n",
    "Initial parameters are all set to `0.01`. "
   ]
  },
  {
   "cell_type": "code",
   "execution_count": 10,
   "metadata": {},
   "outputs": [
    {
     "data": {
      "text/plain": [
       "'Evaluation: 3000, Energy: -1.0861115322782675, Std: 0.0'"
      ]
     },
     "metadata": {},
     "output_type": "display_data"
    }
   ],
   "source": [
    "# Print and save the data in lists\n",
    "def callback(eval_count, parameters, mean, std):  \n",
    "    # Overwrites the same line when printing\n",
    "    display(\"Evaluation: {}, Energy: {}, Std: {}\".format(eval_count, mean, std))\n",
    "    clear_output(wait=True)\n",
    "    counts.append(eval_count)\n",
    "    values.append(mean)\n",
    "    params.append(parameters)\n",
    "    deviation.append(std)\n",
    "\n",
    "counts = []\n",
    "values = []\n",
    "params = []\n",
    "deviation = []\n",
    "\n",
    "# Set initial parameters of the ansatz\n",
    "# We choose a fixed small displacement \n",
    "# So all participants start from similar starting point\n",
    "try:\n",
    "    initial_point = [0.01] * len(ansatz.ordered_parameters)\n",
    "except:\n",
    "    initial_point = [0.01] * ansatz.num_parameters\n",
    "\n",
    "algorithm = VQE(ansatz,\n",
    "                optimizer=optimizer,\n",
    "                quantum_instance=backend,\n",
    "                callback=callback,\n",
    "                initial_point=initial_point,\n",
    "                gradient=Gradient(grad_method='fin_diff'))\n",
    "\n",
    "result = algorithm.compute_minimum_eigenvalue(qubit_op)\n",
    "\n",
    "#print(result)"
   ]
  },
  {
   "cell_type": "markdown",
   "metadata": {},
   "source": [
    "### Results\n",
    "\n",
    "The Electronic and Calculated Ground state energy for Lithium Hydride molecule is shown in the below cell. Also, the cell represents graphs for Energy VS Iterations."
   ]
  },
  {
   "cell_type": "code",
   "execution_count": 11,
   "metadata": {},
   "outputs": [
    {
     "name": "stdout",
     "output_type": "stream",
     "text": [
      "Exact electronic ground state energy for Lithium Hydride is : -1.08871\n",
      "Calculated ground state energy for Lithium Hydride using VQE is : -1.08611\n",
      "Percentage Error in calculating Ground state energy is : 0.24%\n"
     ]
    },
    {
     "data": {
      "image/png": "[encoded data removed]",
      "text/plain": [
       "<Figure size 432x288 with 1 Axes>"
      ]
     },
     "metadata": {
      "needs_background": "light"
     },
     "output_type": "display_data"
    }
   ],
   "source": [
    "# Plot the results\n",
    "fig, ax = plt.subplots(1, 1)\n",
    "ax.set_xlabel('Iterations')\n",
    "ax.set_ylabel('Energy')\n",
    "ax.grid()\n",
    "fig.text(0.55, 0.75, f'Calculated Energy: {result.optimal_value:.5f}\\nElectronic Energy: {exact_energy:.5f}')\n",
    "plt.title(\"Ground state Energy VS Iterations\")\n",
    "ax.plot(counts, values)\n",
    "ax.axhline(exact_energy, linestyle='--')\n",
    "\n",
    "print(f'Exact electronic ground state energy for Lithium Hydride is : {exact_energy:.5f}')\n",
    "print(f'Calculated ground state energy for Lithium Hydride using VQE is : {result.optimal_value:.5f}')\n",
    "Error = abs((exact_energy-result.optimal_value)/exact_energy*100)\n",
    "print(f'Percentage Error in calculating Ground state energy is : {Error:.2f}%')"
   ]
  }
 ],
 "metadata": {
  "kernelspec": {
   "display_name": "Python 3",
   "language": "python",
   "name": "python3"
  },
  "language_info": {
   "codemirror_mode": {
    "name": "ipython",
    "version": 3
   },
   "file_extension": ".py",
   "mimetype": "text/x-python",
   "name": "python",
   "nbconvert_exporter": "python",
   "pygments_lexer": "ipython3",
   "version": "3.8.2"
  }
 },
 "nbformat": 4,
 "nbformat_minor": 4
}
